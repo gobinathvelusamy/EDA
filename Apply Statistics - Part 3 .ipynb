{
 "cells": [
  {
   "cell_type": "code",
   "execution_count": 505,
   "id": "0aaea3a1",
   "metadata": {},
   "outputs": [],
   "source": [
    "import numpy as np\n",
    "import pandas as pd\n",
    "import matplotlib.pyplot as plt\n",
    "import scipy.stats as stats\n",
    "import seaborn as sns"
   ]
  },
  {
   "cell_type": "markdown",
   "id": "7aea96e0",
   "metadata": {},
   "source": [
    "# 1.Data warehouse"
   ]
  },
  {
   "cell_type": "code",
   "execution_count": 506,
   "id": "25c9ab74",
   "metadata": {},
   "outputs": [],
   "source": [
    "df=pd.read_csv(\"DS - Part3 - CompanyX_EU.csv\")"
   ]
  },
  {
   "cell_type": "code",
   "execution_count": 507,
   "id": "753efdc0",
   "metadata": {},
   "outputs": [
    {
     "data": {
      "text/plain": [
       "(662, 6)"
      ]
     },
     "execution_count": 507,
     "metadata": {},
     "output_type": "execute_result"
    }
   ],
   "source": [
    "df.shape"
   ]
  },
  {
   "cell_type": "code",
   "execution_count": 508,
   "id": "c238bd53",
   "metadata": {},
   "outputs": [
    {
     "name": "stdout",
     "output_type": "stream",
     "text": [
      "<class 'pandas.core.frame.DataFrame'>\n",
      "RangeIndex: 662 entries, 0 to 661\n",
      "Data columns (total 6 columns):\n",
      " #   Column          Non-Null Count  Dtype \n",
      "---  ------          --------------  ----- \n",
      " 0   Startup         662 non-null    object\n",
      " 1   Product         656 non-null    object\n",
      " 2   Funding         448 non-null    object\n",
      " 3   Event           662 non-null    object\n",
      " 4   Result          662 non-null    object\n",
      " 5   OperatingState  662 non-null    object\n",
      "dtypes: object(6)\n",
      "memory usage: 31.2+ KB\n"
     ]
    }
   ],
   "source": [
    "df.info()"
   ]
  },
  {
   "cell_type": "code",
   "execution_count": 419,
   "id": "01519e08",
   "metadata": {},
   "outputs": [
    {
     "data": {
      "text/plain": [
       "Index(['Startup', 'Product', 'Funding', 'Event', 'Result', 'OperatingState'], dtype='object')"
      ]
     },
     "execution_count": 419,
     "metadata": {},
     "output_type": "execute_result"
    }
   ],
   "source": [
    "df.columns"
   ]
  },
  {
   "cell_type": "code",
   "execution_count": 509,
   "id": "c4cc2772",
   "metadata": {},
   "outputs": [
    {
     "data": {
      "text/html": [
       "<div>\n",
       "<style scoped>\n",
       "    .dataframe tbody tr th:only-of-type {\n",
       "        vertical-align: middle;\n",
       "    }\n",
       "\n",
       "    .dataframe tbody tr th {\n",
       "        vertical-align: top;\n",
       "    }\n",
       "\n",
       "    .dataframe thead th {\n",
       "        text-align: right;\n",
       "    }\n",
       "</style>\n",
       "<table border=\"1\" class=\"dataframe\">\n",
       "  <thead>\n",
       "    <tr style=\"text-align: right;\">\n",
       "      <th></th>\n",
       "      <th>Startup</th>\n",
       "      <th>Product</th>\n",
       "      <th>Funding</th>\n",
       "      <th>Event</th>\n",
       "      <th>Result</th>\n",
       "      <th>OperatingState</th>\n",
       "    </tr>\n",
       "  </thead>\n",
       "  <tbody>\n",
       "    <tr>\n",
       "      <th>0</th>\n",
       "      <td>2600Hz</td>\n",
       "      <td>2600hz.com</td>\n",
       "      <td>NaN</td>\n",
       "      <td>Disrupt SF 2013</td>\n",
       "      <td>Contestant</td>\n",
       "      <td>Operating</td>\n",
       "    </tr>\n",
       "    <tr>\n",
       "      <th>1</th>\n",
       "      <td>3DLT</td>\n",
       "      <td>3dlt.com</td>\n",
       "      <td>$630K</td>\n",
       "      <td>Disrupt NYC 2013</td>\n",
       "      <td>Contestant</td>\n",
       "      <td>Closed</td>\n",
       "    </tr>\n",
       "    <tr>\n",
       "      <th>2</th>\n",
       "      <td>3DPrinterOS</td>\n",
       "      <td>3dprinteros.com</td>\n",
       "      <td>NaN</td>\n",
       "      <td>Disrupt SF 2016</td>\n",
       "      <td>Contestant</td>\n",
       "      <td>Operating</td>\n",
       "    </tr>\n",
       "    <tr>\n",
       "      <th>3</th>\n",
       "      <td>3Dprintler</td>\n",
       "      <td>3dprintler.com</td>\n",
       "      <td>$1M</td>\n",
       "      <td>Disrupt NY 2016</td>\n",
       "      <td>Audience choice</td>\n",
       "      <td>Operating</td>\n",
       "    </tr>\n",
       "    <tr>\n",
       "      <th>4</th>\n",
       "      <td>42 Technologies</td>\n",
       "      <td>42technologies.com</td>\n",
       "      <td>NaN</td>\n",
       "      <td>Disrupt NYC 2013</td>\n",
       "      <td>Contestant</td>\n",
       "      <td>Operating</td>\n",
       "    </tr>\n",
       "    <tr>\n",
       "      <th>5</th>\n",
       "      <td>5to1</td>\n",
       "      <td>5to1.com</td>\n",
       "      <td>$19.3M</td>\n",
       "      <td>TC50 2009</td>\n",
       "      <td>Contestant</td>\n",
       "      <td>Acquired</td>\n",
       "    </tr>\n",
       "    <tr>\n",
       "      <th>6</th>\n",
       "      <td>8 Securities</td>\n",
       "      <td>8securities.com</td>\n",
       "      <td>$29M</td>\n",
       "      <td>Disrupt Beijing 2011</td>\n",
       "      <td>Finalist</td>\n",
       "      <td>Operating</td>\n",
       "    </tr>\n",
       "    <tr>\n",
       "      <th>7</th>\n",
       "      <td>8020 Media</td>\n",
       "      <td>8020media.com</td>\n",
       "      <td>NaN</td>\n",
       "      <td>TC40 2007</td>\n",
       "      <td>Contestant</td>\n",
       "      <td>Operating</td>\n",
       "    </tr>\n",
       "    <tr>\n",
       "      <th>8</th>\n",
       "      <td>About Last Night</td>\n",
       "      <td>aboutlastnight.net</td>\n",
       "      <td>NaN</td>\n",
       "      <td>Disrupt NYC 2012</td>\n",
       "      <td>Contestant</td>\n",
       "      <td>Operating</td>\n",
       "    </tr>\n",
       "    <tr>\n",
       "      <th>9</th>\n",
       "      <td>Adgregate Markets</td>\n",
       "      <td>adgregate.com</td>\n",
       "      <td>NaN</td>\n",
       "      <td>TC50 2008</td>\n",
       "      <td>Contestant</td>\n",
       "      <td>Operating</td>\n",
       "    </tr>\n",
       "  </tbody>\n",
       "</table>\n",
       "</div>"
      ],
      "text/plain": [
       "             Startup             Product Funding                 Event  \\\n",
       "0             2600Hz          2600hz.com     NaN       Disrupt SF 2013   \n",
       "1               3DLT            3dlt.com   $630K      Disrupt NYC 2013   \n",
       "2        3DPrinterOS     3dprinteros.com     NaN       Disrupt SF 2016   \n",
       "3         3Dprintler      3dprintler.com     $1M       Disrupt NY 2016   \n",
       "4    42 Technologies  42technologies.com     NaN      Disrupt NYC 2013   \n",
       "5               5to1            5to1.com  $19.3M             TC50 2009   \n",
       "6       8 Securities     8securities.com    $29M  Disrupt Beijing 2011   \n",
       "7         8020 Media       8020media.com     NaN             TC40 2007   \n",
       "8   About Last Night  aboutlastnight.net     NaN      Disrupt NYC 2012   \n",
       "9  Adgregate Markets       adgregate.com     NaN             TC50 2008   \n",
       "\n",
       "            Result OperatingState  \n",
       "0       Contestant      Operating  \n",
       "1       Contestant         Closed  \n",
       "2       Contestant      Operating  \n",
       "3  Audience choice      Operating  \n",
       "4       Contestant      Operating  \n",
       "5       Contestant       Acquired  \n",
       "6         Finalist      Operating  \n",
       "7       Contestant      Operating  \n",
       "8       Contestant      Operating  \n",
       "9       Contestant      Operating  "
      ]
     },
     "execution_count": 509,
     "metadata": {},
     "output_type": "execute_result"
    }
   ],
   "source": [
    "df.head(10)"
   ]
  },
  {
   "cell_type": "code",
   "execution_count": 421,
   "id": "fb96f702",
   "metadata": {},
   "outputs": [
    {
     "data": {
      "text/html": [
       "<div>\n",
       "<style scoped>\n",
       "    .dataframe tbody tr th:only-of-type {\n",
       "        vertical-align: middle;\n",
       "    }\n",
       "\n",
       "    .dataframe tbody tr th {\n",
       "        vertical-align: top;\n",
       "    }\n",
       "\n",
       "    .dataframe thead th {\n",
       "        text-align: right;\n",
       "    }\n",
       "</style>\n",
       "<table border=\"1\" class=\"dataframe\">\n",
       "  <thead>\n",
       "    <tr style=\"text-align: right;\">\n",
       "      <th></th>\n",
       "      <th>Startup</th>\n",
       "      <th>Product</th>\n",
       "      <th>Funding</th>\n",
       "      <th>Event</th>\n",
       "      <th>Result</th>\n",
       "      <th>OperatingState</th>\n",
       "    </tr>\n",
       "  </thead>\n",
       "  <tbody>\n",
       "    <tr>\n",
       "      <th>count</th>\n",
       "      <td>662</td>\n",
       "      <td>656</td>\n",
       "      <td>448</td>\n",
       "      <td>662</td>\n",
       "      <td>662</td>\n",
       "      <td>662</td>\n",
       "    </tr>\n",
       "    <tr>\n",
       "      <th>unique</th>\n",
       "      <td>662</td>\n",
       "      <td>656</td>\n",
       "      <td>240</td>\n",
       "      <td>26</td>\n",
       "      <td>5</td>\n",
       "      <td>4</td>\n",
       "    </tr>\n",
       "    <tr>\n",
       "      <th>top</th>\n",
       "      <td>2600Hz</td>\n",
       "      <td>2600hz.com</td>\n",
       "      <td>$1M</td>\n",
       "      <td>TC50 2008</td>\n",
       "      <td>Contestant</td>\n",
       "      <td>Operating</td>\n",
       "    </tr>\n",
       "    <tr>\n",
       "      <th>freq</th>\n",
       "      <td>1</td>\n",
       "      <td>1</td>\n",
       "      <td>17</td>\n",
       "      <td>52</td>\n",
       "      <td>488</td>\n",
       "      <td>465</td>\n",
       "    </tr>\n",
       "  </tbody>\n",
       "</table>\n",
       "</div>"
      ],
      "text/plain": [
       "       Startup     Product Funding      Event      Result OperatingState\n",
       "count      662         656     448        662         662            662\n",
       "unique     662         656     240         26           5              4\n",
       "top     2600Hz  2600hz.com     $1M  TC50 2008  Contestant      Operating\n",
       "freq         1           1      17         52         488            465"
      ]
     },
     "execution_count": 421,
     "metadata": {},
     "output_type": "execute_result"
    }
   ],
   "source": [
    "df.describe(include='all')"
   ]
  },
  {
   "cell_type": "markdown",
   "id": "75a4fb12",
   "metadata": {},
   "source": [
    "# 2.Data exploration\n",
    "    \n",
    "2.1 Check the datatypes of each attribute.\n",
    "2.2 Check for null values in the attributes."
   ]
  },
  {
   "cell_type": "code",
   "execution_count": 510,
   "id": "d04e6556",
   "metadata": {},
   "outputs": [
    {
     "name": "stdout",
     "output_type": "stream",
     "text": [
      "<class 'pandas.core.frame.DataFrame'>\n",
      "RangeIndex: 662 entries, 0 to 661\n",
      "Data columns (total 6 columns):\n",
      " #   Column          Non-Null Count  Dtype \n",
      "---  ------          --------------  ----- \n",
      " 0   Startup         662 non-null    object\n",
      " 1   Product         656 non-null    object\n",
      " 2   Funding         448 non-null    object\n",
      " 3   Event           662 non-null    object\n",
      " 4   Result          662 non-null    object\n",
      " 5   OperatingState  662 non-null    object\n",
      "dtypes: object(6)\n",
      "memory usage: 31.2+ KB\n"
     ]
    }
   ],
   "source": [
    "#2.1 \n",
    "df.info()"
   ]
  },
  {
   "cell_type": "code",
   "execution_count": 511,
   "id": "138e5c54",
   "metadata": {},
   "outputs": [
    {
     "data": {
      "text/plain": [
       "Startup             0\n",
       "Product             6\n",
       "Funding           214\n",
       "Event               0\n",
       "Result              0\n",
       "OperatingState      0\n",
       "dtype: int64"
      ]
     },
     "execution_count": 511,
     "metadata": {},
     "output_type": "execute_result"
    }
   ],
   "source": [
    "#2.2\n",
    "df.isna().sum()"
   ]
  },
  {
   "cell_type": "code",
   "execution_count": 425,
   "id": "076df3f4",
   "metadata": {},
   "outputs": [
    {
     "data": {
      "text/plain": [
       "0"
      ]
     },
     "execution_count": 425,
     "metadata": {},
     "output_type": "execute_result"
    }
   ],
   "source": [
    "df.duplicated().sum()"
   ]
  },
  {
   "cell_type": "markdown",
   "id": "a4f85cae",
   "metadata": {},
   "source": [
    "# 3.Data preprocessing & visualisation"
   ]
  },
  {
   "cell_type": "markdown",
   "id": "158842b1",
   "metadata": {},
   "source": [
    "3.1 Drop the null values.\n",
    "3.2 Convert the ‘Funding’ features to a numerical value."
   ]
  },
  {
   "cell_type": "code",
   "execution_count": 512,
   "id": "21a118bd",
   "metadata": {},
   "outputs": [
    {
     "data": {
      "text/plain": [
       "(446, 6)"
      ]
     },
     "execution_count": 512,
     "metadata": {},
     "output_type": "execute_result"
    }
   ],
   "source": [
    "df1 = df.dropna()\n",
    "df1.shape"
   ]
  },
  {
   "cell_type": "markdown",
   "id": "efa127af",
   "metadata": {},
   "source": [
    "Observation : \n",
    "212 null records dropped with new dataframe df1"
   ]
  },
  {
   "cell_type": "code",
   "execution_count": 513,
   "id": "b7b37aa6",
   "metadata": {},
   "outputs": [
    {
     "data": {
      "text/plain": [
       "Startup           0\n",
       "Product           0\n",
       "Funding           0\n",
       "Event             0\n",
       "Result            0\n",
       "OperatingState    0\n",
       "dtype: int64"
      ]
     },
     "execution_count": 513,
     "metadata": {},
     "output_type": "execute_result"
    }
   ],
   "source": [
    "df1.isna().sum()"
   ]
  },
  {
   "cell_type": "markdown",
   "id": "849cfc9f",
   "metadata": {},
   "source": [
    "Observation : \n",
    "Null Values removed in dataframe df1"
   ]
  },
  {
   "cell_type": "code",
   "execution_count": 428,
   "id": "ec363a23",
   "metadata": {},
   "outputs": [
    {
     "data": {
      "text/plain": [
       "array(['$630K', '$1M', '$19.3M', '$29M', '$1.8M', '$750K', '$17.9K',\n",
       "       '$11.6M', '$929.2K', '$12.2M', '$1.9M', '$4M', '$3M', '$225K',\n",
       "       '$24M', '$746K', '$600K', '$7.1M', '$4.5M', '$50.9M', '$8.3M',\n",
       "       '$12.3M', '$190K', '$40M', '$520K', '$2.9M', '$320K', '$1.7M',\n",
       "       '$20K', '$205M', '$16.5M', '$2.8M', '$125K', '$350K', '$20.8M',\n",
       "       '$675K', '$6.5M', '$2M', '$118K', '$20.5M', '$7.2M', '$2.3M',\n",
       "       '$212K', '$7M', '$8.1M', '$8.5M', '$325K', '$150K', '$5M', '$60K',\n",
       "       '$8.8M', '$120K', '$3.1M', '$5.5M', '$2.2M', '$496K', '$1.4M',\n",
       "       '$32.5M', '$19M', '$475K', '$182.1M', '$6.7M', '$848K', '$1.3M',\n",
       "       '$12M', '$2.6M', '$411.5K', '$925K', '$35.4M', '$38M', '$37.1M',\n",
       "       '$6.8M', '$72M', '$64M', '$12.5M', '$900K', '$100K', '$7.3M',\n",
       "       '$983K', '$9.7M', '$5.4M', '$160K', '$300K', '$1.7B', '$10.1M',\n",
       "       '$485K', '$8M', '$4.3M', '$10M', '$34.6M', '$16.3M', '$2.4M',\n",
       "       '$650K', '$35.5M', '$15.4M', '$18.2M', '$30.1M', '$26M', '$1.2M',\n",
       "       '$790.6K', '$66M', '$28.3M', '$6.4M', '$8.2M', '$5K', '$310.5K',\n",
       "       '$11.3M', '$3.8M', '$700K', '$103M', '$334.6K', '$25.9M',\n",
       "       '$755.9K', '$36.5M', '$14.2M', '$500K', '$191.5K', '$44.7M',\n",
       "       '$566.1K', '$6.3M', '$24.2M', '$10.7M', '$22M', '$1.1M', '$3.2M',\n",
       "       '$195K', '$14.1M', '$50K', '$745K', '$457K', '$355K', '$696.3K',\n",
       "       '$122.4M', '$421.6K', '$34.9M', '$67.8M', '$11.7M', '$166.1M',\n",
       "       '$1.6M', '$4.4M', '$717K', '$5.8M', '$4.1M', '$42.1M', '$69M',\n",
       "       '$10.6M', '$65.1M', '$875K', '$250K', '$25.1M', '$635K', '$9.2M',\n",
       "       '$800K', '$9.4M', '$31.8M', '$3.3M', '$9.5M', '$3.5M', '$275K',\n",
       "       '$13.2M', '$12.8M', '$5.3M', '$37M', '$3.9M', '$651.4K', '$38.5M',\n",
       "       '$25.5M', '$892K', '$3.4M', '$1.5M', '$79.5K', '$156K', '$4.8M',\n",
       "       '$755K', '$525K', '$18.5M', '$278M', '$3.6M', '$63M', '$948K',\n",
       "       '$10.5M', '$7.4M', '$6M', '$20.3K', '$765K', '$145K', '$25M',\n",
       "       '$956K', '$7.7M', '$160M', '$590K', '$855.4K', '$165K', '$16.2M',\n",
       "       '$18M', '$440K', '$684.4K', '$129.8K', '$482K', '$200K', '$2.1M',\n",
       "       '$23K', '$863K', '$15.6M', '$47.4M', '$323.8K', '$5.1M', '$24.5M',\n",
       "       '$532K', '$4.2M', '$280K', '$9.8M', '$16M', '$93K', '$88K',\n",
       "       '$10.3M', '$13.1M', '$332.4M', '$7.8M', '$14.5M', '$35M',\n",
       "       '$168.8M', '$830.2K', '$28M', '$26.7K', '$55K', '$30.8M', '$85.7K',\n",
       "       '$2.5M', '$17.4M', '$15.8M', '$28K', '$41.8M', '$142M', '$117.8M',\n",
       "       '$62.1M', '$583.6M', '$223M', '$31.5M'], dtype=object)"
      ]
     },
     "execution_count": 428,
     "metadata": {},
     "output_type": "execute_result"
    }
   ],
   "source": [
    "df1.head(10)\n",
    "df1.Funding.unique()"
   ]
  },
  {
   "cell_type": "code",
   "execution_count": 514,
   "id": "b1bcb7e0",
   "metadata": {},
   "outputs": [
    {
     "name": "stderr",
     "output_type": "stream",
     "text": [
      "/var/folders/7p/5k1s0qxj2mn1kmk2d_npxq8r0000gn/T/ipykernel_6406/69335416.py:1: SettingWithCopyWarning: \n",
      "A value is trying to be set on a copy of a slice from a DataFrame.\n",
      "Try using .loc[row_indexer,col_indexer] = value instead\n",
      "\n",
      "See the caveats in the documentation: https://pandas.pydata.org/pandas-docs/stable/user_guide/indexing.html#returning-a-view-versus-a-copy\n",
      "  df1['Funding1'] = df1['Funding'].str[1:].replace({'K': '*1e3', 'M': '*1e6','B': '*1e9'}, regex=True).map(pd.eval).astype(int)\n",
      "/var/folders/7p/5k1s0qxj2mn1kmk2d_npxq8r0000gn/T/ipykernel_6406/69335416.py:2: SettingWithCopyWarning: \n",
      "A value is trying to be set on a copy of a slice from a DataFrame.\n",
      "Try using .loc[row_indexer,col_indexer] = value instead\n",
      "\n",
      "See the caveats in the documentation: https://pandas.pydata.org/pandas-docs/stable/user_guide/indexing.html#returning-a-view-versus-a-copy\n",
      "  df1['FundingMillion']=df1['Funding1']/1000000\n"
     ]
    },
    {
     "data": {
      "text/plain": [
       "Startup           446\n",
       "Product           446\n",
       "Funding           446\n",
       "Event             446\n",
       "Result            446\n",
       "OperatingState    446\n",
       "Funding1          446\n",
       "FundingMillion    446\n",
       "dtype: int64"
      ]
     },
     "execution_count": 514,
     "metadata": {},
     "output_type": "execute_result"
    }
   ],
   "source": [
    "df1['Funding1'] = df1['Funding'].str[1:].replace({'K': '*1e3', 'M': '*1e6','B': '*1e9'}, regex=True).map(pd.eval).astype(int)\n",
    "df1['FundingMillion']=df1['Funding1']/1000000\n",
    "df1.count()"
   ]
  },
  {
   "cell_type": "code",
   "execution_count": 556,
   "id": "47618569",
   "metadata": {},
   "outputs": [
    {
     "data": {
      "text/plain": [
       "Operating    319\n",
       "Acquired      66\n",
       "Closed        57\n",
       "Ipo            4\n",
       "Name: OperatingState, dtype: int64"
      ]
     },
     "execution_count": 556,
     "metadata": {},
     "output_type": "execute_result"
    }
   ],
   "source": [
    "df2=df1.drop(columns=['Funding','Funding1'])\n",
    "df2['OperatingState'].value_counts()"
   ]
  },
  {
   "cell_type": "code",
   "execution_count": null,
   "id": "e4e74dc9",
   "metadata": {},
   "outputs": [],
   "source": [
    "Observation : \n",
    "    Funding column data type changed to FundingMillion as numeric data type also applied Millionn Convertion.\n",
    "    Data cleansing done and available in df2"
   ]
  },
  {
   "cell_type": "code",
   "execution_count": 516,
   "id": "694c3512",
   "metadata": {},
   "outputs": [
    {
     "data": {
      "text/html": [
       "<div>\n",
       "<style scoped>\n",
       "    .dataframe tbody tr th:only-of-type {\n",
       "        vertical-align: middle;\n",
       "    }\n",
       "\n",
       "    .dataframe tbody tr th {\n",
       "        vertical-align: top;\n",
       "    }\n",
       "\n",
       "    .dataframe thead th {\n",
       "        text-align: right;\n",
       "    }\n",
       "</style>\n",
       "<table border=\"1\" class=\"dataframe\">\n",
       "  <thead>\n",
       "    <tr style=\"text-align: right;\">\n",
       "      <th></th>\n",
       "      <th>Startup</th>\n",
       "      <th>Product</th>\n",
       "      <th>Event</th>\n",
       "      <th>Result</th>\n",
       "      <th>OperatingState</th>\n",
       "      <th>FundingMillion</th>\n",
       "    </tr>\n",
       "  </thead>\n",
       "  <tbody>\n",
       "    <tr>\n",
       "      <th>1</th>\n",
       "      <td>3DLT</td>\n",
       "      <td>3dlt.com</td>\n",
       "      <td>Disrupt NYC 2013</td>\n",
       "      <td>Contestant</td>\n",
       "      <td>Closed</td>\n",
       "      <td>0.630</td>\n",
       "    </tr>\n",
       "    <tr>\n",
       "      <th>3</th>\n",
       "      <td>3Dprintler</td>\n",
       "      <td>3dprintler.com</td>\n",
       "      <td>Disrupt NY 2016</td>\n",
       "      <td>Audience choice</td>\n",
       "      <td>Operating</td>\n",
       "      <td>1.000</td>\n",
       "    </tr>\n",
       "    <tr>\n",
       "      <th>5</th>\n",
       "      <td>5to1</td>\n",
       "      <td>5to1.com</td>\n",
       "      <td>TC50 2009</td>\n",
       "      <td>Contestant</td>\n",
       "      <td>Acquired</td>\n",
       "      <td>19.300</td>\n",
       "    </tr>\n",
       "    <tr>\n",
       "      <th>6</th>\n",
       "      <td>8 Securities</td>\n",
       "      <td>8securities.com</td>\n",
       "      <td>Disrupt Beijing 2011</td>\n",
       "      <td>Finalist</td>\n",
       "      <td>Operating</td>\n",
       "      <td>29.000</td>\n",
       "    </tr>\n",
       "    <tr>\n",
       "      <th>10</th>\n",
       "      <td>AdhereTech</td>\n",
       "      <td>adheretech.com</td>\n",
       "      <td>Hardware Battlefield 2014</td>\n",
       "      <td>Contestant</td>\n",
       "      <td>Operating</td>\n",
       "      <td>1.800</td>\n",
       "    </tr>\n",
       "    <tr>\n",
       "      <th>...</th>\n",
       "      <td>...</td>\n",
       "      <td>...</td>\n",
       "      <td>...</td>\n",
       "      <td>...</td>\n",
       "      <td>...</td>\n",
       "      <td>...</td>\n",
       "    </tr>\n",
       "    <tr>\n",
       "      <th>146</th>\n",
       "      <td>Dispatch</td>\n",
       "      <td>dispatch.com</td>\n",
       "      <td>Disrupt SF 2012</td>\n",
       "      <td>Contestant</td>\n",
       "      <td>Acquired</td>\n",
       "      <td>0.983</td>\n",
       "    </tr>\n",
       "    <tr>\n",
       "      <th>147</th>\n",
       "      <td>DocSend</td>\n",
       "      <td>docsend.com</td>\n",
       "      <td>Disrupt NYC 2014</td>\n",
       "      <td>Contestant</td>\n",
       "      <td>Operating</td>\n",
       "      <td>9.700</td>\n",
       "    </tr>\n",
       "    <tr>\n",
       "      <th>148</th>\n",
       "      <td>Docstoc</td>\n",
       "      <td>docstoc.com</td>\n",
       "      <td>TC40 2007</td>\n",
       "      <td>Contestant</td>\n",
       "      <td>Closed</td>\n",
       "      <td>4.000</td>\n",
       "    </tr>\n",
       "    <tr>\n",
       "      <th>149</th>\n",
       "      <td>Docurated</td>\n",
       "      <td>docurated.com</td>\n",
       "      <td>Disrupt NYC 2013</td>\n",
       "      <td>Contestant</td>\n",
       "      <td>Operating</td>\n",
       "      <td>5.400</td>\n",
       "    </tr>\n",
       "    <tr>\n",
       "      <th>150</th>\n",
       "      <td>Donay</td>\n",
       "      <td>donay.com</td>\n",
       "      <td>Disrupt NYC 2013</td>\n",
       "      <td>Contestant</td>\n",
       "      <td>Closed</td>\n",
       "      <td>0.160</td>\n",
       "    </tr>\n",
       "  </tbody>\n",
       "</table>\n",
       "<p>100 rows × 6 columns</p>\n",
       "</div>"
      ],
      "text/plain": [
       "          Startup          Product                      Event  \\\n",
       "1            3DLT         3dlt.com           Disrupt NYC 2013   \n",
       "3      3Dprintler   3dprintler.com            Disrupt NY 2016   \n",
       "5            5to1         5to1.com                  TC50 2009   \n",
       "6    8 Securities  8securities.com       Disrupt Beijing 2011   \n",
       "10     AdhereTech   adheretech.com  Hardware Battlefield 2014   \n",
       "..            ...              ...                        ...   \n",
       "146      Dispatch     dispatch.com            Disrupt SF 2012   \n",
       "147       DocSend      docsend.com           Disrupt NYC 2014   \n",
       "148       Docstoc      docstoc.com                  TC40 2007   \n",
       "149     Docurated    docurated.com           Disrupt NYC 2013   \n",
       "150         Donay        donay.com           Disrupt NYC 2013   \n",
       "\n",
       "              Result OperatingState  FundingMillion  \n",
       "1         Contestant         Closed           0.630  \n",
       "3    Audience choice      Operating           1.000  \n",
       "5         Contestant       Acquired          19.300  \n",
       "6           Finalist      Operating          29.000  \n",
       "10        Contestant      Operating           1.800  \n",
       "..               ...            ...             ...  \n",
       "146       Contestant       Acquired           0.983  \n",
       "147       Contestant      Operating           9.700  \n",
       "148       Contestant         Closed           4.000  \n",
       "149       Contestant      Operating           5.400  \n",
       "150       Contestant         Closed           0.160  \n",
       "\n",
       "[100 rows x 6 columns]"
      ]
     },
     "execution_count": 516,
     "metadata": {},
     "output_type": "execute_result"
    }
   ],
   "source": [
    "df2.head(100)"
   ]
  },
  {
   "cell_type": "code",
   "execution_count": null,
   "id": "329b1b8e",
   "metadata": {},
   "outputs": [],
   "source": [
    "Observation : \n",
    "215 Null records dropped from data set \n",
    "Funding Data type changed to Million  Value  "
   ]
  },
  {
   "cell_type": "markdown",
   "id": "0eb2fcc0",
   "metadata": {},
   "source": [
    "# 3.3 Plot box plot for funds in million."
   ]
  },
  {
   "cell_type": "code",
   "execution_count": 432,
   "id": "9ee0f907",
   "metadata": {},
   "outputs": [
    {
     "data": {
      "text/html": [
       "<div>\n",
       "<style scoped>\n",
       "    .dataframe tbody tr th:only-of-type {\n",
       "        vertical-align: middle;\n",
       "    }\n",
       "\n",
       "    .dataframe tbody tr th {\n",
       "        vertical-align: top;\n",
       "    }\n",
       "\n",
       "    .dataframe thead th {\n",
       "        text-align: right;\n",
       "    }\n",
       "</style>\n",
       "<table border=\"1\" class=\"dataframe\">\n",
       "  <thead>\n",
       "    <tr style=\"text-align: right;\">\n",
       "      <th></th>\n",
       "      <th>FundingMillion</th>\n",
       "    </tr>\n",
       "  </thead>\n",
       "  <tbody>\n",
       "    <tr>\n",
       "      <th>count</th>\n",
       "      <td>446.000000</td>\n",
       "    </tr>\n",
       "    <tr>\n",
       "      <th>mean</th>\n",
       "      <td>17.241489</td>\n",
       "    </tr>\n",
       "    <tr>\n",
       "      <th>std</th>\n",
       "      <td>90.483710</td>\n",
       "    </tr>\n",
       "    <tr>\n",
       "      <th>min</th>\n",
       "      <td>0.005000</td>\n",
       "    </tr>\n",
       "    <tr>\n",
       "      <th>25%</th>\n",
       "      <td>0.745250</td>\n",
       "    </tr>\n",
       "    <tr>\n",
       "      <th>50%</th>\n",
       "      <td>2.200000</td>\n",
       "    </tr>\n",
       "    <tr>\n",
       "      <th>75%</th>\n",
       "      <td>9.475000</td>\n",
       "    </tr>\n",
       "    <tr>\n",
       "      <th>max</th>\n",
       "      <td>1700.000000</td>\n",
       "    </tr>\n",
       "  </tbody>\n",
       "</table>\n",
       "</div>"
      ],
      "text/plain": [
       "       FundingMillion\n",
       "count      446.000000\n",
       "mean        17.241489\n",
       "std         90.483710\n",
       "min          0.005000\n",
       "25%          0.745250\n",
       "50%          2.200000\n",
       "75%          9.475000\n",
       "max       1700.000000"
      ]
     },
     "execution_count": 432,
     "metadata": {},
     "output_type": "execute_result"
    }
   ],
   "source": [
    "df2.describe()"
   ]
  },
  {
   "cell_type": "code",
   "execution_count": 517,
   "id": "bd06cc77",
   "metadata": {},
   "outputs": [
    {
     "data": {
      "image/png": "[encoded data removed]",
      "text/plain": [
       "<Figure size 432x288 with 1 Axes>"
      ]
     },
     "metadata": {
      "needs_background": "light"
     },
     "output_type": "display_data"
    }
   ],
   "source": [
    "fund=df2['FundingMillion']\n",
    "sns.boxplot(x=fund)\n",
    "plt.show()"
   ]
  },
  {
   "cell_type": "code",
   "execution_count": null,
   "id": "bed2104a",
   "metadata": {},
   "outputs": [],
   "source": [
    "Observation : \n",
    "    Min value .005 and max value will be 1700 . So we didn't get proper Box plot \n",
    "    There is more devaition between Mean value (17.24) , min value('0.005'),Max (1700)"
   ]
  },
  {
   "cell_type": "markdown",
   "id": "cb41f897",
   "metadata": {},
   "source": [
    "# 3.4  Get the lower fence from the box plot."
   ]
  },
  {
   "cell_type": "code",
   "execution_count": 518,
   "id": "8528cc22",
   "metadata": {},
   "outputs": [
    {
     "name": "stdout",
     "output_type": "stream",
     "text": [
      "Q1 0.74525\n",
      "Q3 9.475\n",
      "IQR 8.72975\n"
     ]
    }
   ],
   "source": [
    "Q1 = df2[\"FundingMillion\"].quantile(0.25)\n",
    "Q3 = df2[\"FundingMillion\"].quantile(0.75)\n",
    "IQR = Q3 - Q1\n",
    "print(\"Q1\",Q1)\n",
    "print(\"Q3\",Q3)\n",
    "print(\"IQR\",IQR)"
   ]
  },
  {
   "cell_type": "code",
   "execution_count": 519,
   "id": "06eb0d45",
   "metadata": {},
   "outputs": [
    {
     "name": "stdout",
     "output_type": "stream",
     "text": [
      "Lower Fence Value  -12.349374999999998\n",
      "Upper Fence Value  22.569625\n"
     ]
    }
   ],
   "source": [
    "Lower_Fence = Q1 - (1.5 * IQR)\n",
    "Upper_Fence = Q3 + (1.5 * IQR)\n",
    "print(\"Lower Fence Value \",Lower_Fence)\n",
    "print(\"Upper Fence Value \",Upper_Fence)"
   ]
  },
  {
   "cell_type": "code",
   "execution_count": 436,
   "id": "3e8d88e4",
   "metadata": {},
   "outputs": [
    {
     "data": {
      "text/html": [
       "<div>\n",
       "<style scoped>\n",
       "    .dataframe tbody tr th:only-of-type {\n",
       "        vertical-align: middle;\n",
       "    }\n",
       "\n",
       "    .dataframe tbody tr th {\n",
       "        vertical-align: top;\n",
       "    }\n",
       "\n",
       "    .dataframe thead th {\n",
       "        text-align: right;\n",
       "    }\n",
       "</style>\n",
       "<table border=\"1\" class=\"dataframe\">\n",
       "  <thead>\n",
       "    <tr style=\"text-align: right;\">\n",
       "      <th></th>\n",
       "      <th>Startup</th>\n",
       "      <th>Product</th>\n",
       "      <th>Event</th>\n",
       "      <th>Result</th>\n",
       "      <th>OperatingState</th>\n",
       "      <th>FundingMillion</th>\n",
       "    </tr>\n",
       "  </thead>\n",
       "  <tbody>\n",
       "    <tr>\n",
       "      <th>1</th>\n",
       "      <td>3DLT</td>\n",
       "      <td>3dlt.com</td>\n",
       "      <td>Disrupt NYC 2013</td>\n",
       "      <td>Contestant</td>\n",
       "      <td>Closed</td>\n",
       "      <td>0.630</td>\n",
       "    </tr>\n",
       "    <tr>\n",
       "      <th>3</th>\n",
       "      <td>3Dprintler</td>\n",
       "      <td>3dprintler.com</td>\n",
       "      <td>Disrupt NY 2016</td>\n",
       "      <td>Audience choice</td>\n",
       "      <td>Operating</td>\n",
       "      <td>1.000</td>\n",
       "    </tr>\n",
       "    <tr>\n",
       "      <th>5</th>\n",
       "      <td>5to1</td>\n",
       "      <td>5to1.com</td>\n",
       "      <td>TC50 2009</td>\n",
       "      <td>Contestant</td>\n",
       "      <td>Acquired</td>\n",
       "      <td>19.300</td>\n",
       "    </tr>\n",
       "    <tr>\n",
       "      <th>6</th>\n",
       "      <td>8 Securities</td>\n",
       "      <td>8securities.com</td>\n",
       "      <td>Disrupt Beijing 2011</td>\n",
       "      <td>Finalist</td>\n",
       "      <td>Operating</td>\n",
       "      <td>29.000</td>\n",
       "    </tr>\n",
       "    <tr>\n",
       "      <th>10</th>\n",
       "      <td>AdhereTech</td>\n",
       "      <td>adheretech.com</td>\n",
       "      <td>Hardware Battlefield 2014</td>\n",
       "      <td>Contestant</td>\n",
       "      <td>Operating</td>\n",
       "      <td>1.800</td>\n",
       "    </tr>\n",
       "    <tr>\n",
       "      <th>...</th>\n",
       "      <td>...</td>\n",
       "      <td>...</td>\n",
       "      <td>...</td>\n",
       "      <td>...</td>\n",
       "      <td>...</td>\n",
       "      <td>...</td>\n",
       "    </tr>\n",
       "    <tr>\n",
       "      <th>146</th>\n",
       "      <td>Dispatch</td>\n",
       "      <td>dispatch.com</td>\n",
       "      <td>Disrupt SF 2012</td>\n",
       "      <td>Contestant</td>\n",
       "      <td>Acquired</td>\n",
       "      <td>0.983</td>\n",
       "    </tr>\n",
       "    <tr>\n",
       "      <th>147</th>\n",
       "      <td>DocSend</td>\n",
       "      <td>docsend.com</td>\n",
       "      <td>Disrupt NYC 2014</td>\n",
       "      <td>Contestant</td>\n",
       "      <td>Operating</td>\n",
       "      <td>9.700</td>\n",
       "    </tr>\n",
       "    <tr>\n",
       "      <th>148</th>\n",
       "      <td>Docstoc</td>\n",
       "      <td>docstoc.com</td>\n",
       "      <td>TC40 2007</td>\n",
       "      <td>Contestant</td>\n",
       "      <td>Closed</td>\n",
       "      <td>4.000</td>\n",
       "    </tr>\n",
       "    <tr>\n",
       "      <th>149</th>\n",
       "      <td>Docurated</td>\n",
       "      <td>docurated.com</td>\n",
       "      <td>Disrupt NYC 2013</td>\n",
       "      <td>Contestant</td>\n",
       "      <td>Operating</td>\n",
       "      <td>5.400</td>\n",
       "    </tr>\n",
       "    <tr>\n",
       "      <th>150</th>\n",
       "      <td>Donay</td>\n",
       "      <td>donay.com</td>\n",
       "      <td>Disrupt NYC 2013</td>\n",
       "      <td>Contestant</td>\n",
       "      <td>Closed</td>\n",
       "      <td>0.160</td>\n",
       "    </tr>\n",
       "  </tbody>\n",
       "</table>\n",
       "<p>100 rows × 6 columns</p>\n",
       "</div>"
      ],
      "text/plain": [
       "          Startup          Product                      Event  \\\n",
       "1            3DLT         3dlt.com           Disrupt NYC 2013   \n",
       "3      3Dprintler   3dprintler.com            Disrupt NY 2016   \n",
       "5            5to1         5to1.com                  TC50 2009   \n",
       "6    8 Securities  8securities.com       Disrupt Beijing 2011   \n",
       "10     AdhereTech   adheretech.com  Hardware Battlefield 2014   \n",
       "..            ...              ...                        ...   \n",
       "146      Dispatch     dispatch.com            Disrupt SF 2012   \n",
       "147       DocSend      docsend.com           Disrupt NYC 2014   \n",
       "148       Docstoc      docstoc.com                  TC40 2007   \n",
       "149     Docurated    docurated.com           Disrupt NYC 2013   \n",
       "150         Donay        donay.com           Disrupt NYC 2013   \n",
       "\n",
       "              Result OperatingState  FundingMillion  \n",
       "1         Contestant         Closed           0.630  \n",
       "3    Audience choice      Operating           1.000  \n",
       "5         Contestant       Acquired          19.300  \n",
       "6           Finalist      Operating          29.000  \n",
       "10        Contestant      Operating           1.800  \n",
       "..               ...            ...             ...  \n",
       "146       Contestant       Acquired           0.983  \n",
       "147       Contestant      Operating           9.700  \n",
       "148       Contestant         Closed           4.000  \n",
       "149       Contestant      Operating           5.400  \n",
       "150       Contestant         Closed           0.160  \n",
       "\n",
       "[100 rows x 6 columns]"
      ]
     },
     "execution_count": 436,
     "metadata": {},
     "output_type": "execute_result"
    }
   ],
   "source": [
    "df2.head(100)"
   ]
  },
  {
   "cell_type": "markdown",
   "id": "86585024",
   "metadata": {},
   "source": [
    "# 3.5 Check number of outliers greater than upper fence."
   ]
  },
  {
   "cell_type": "code",
   "execution_count": 520,
   "id": "58c1031f",
   "metadata": {},
   "outputs": [],
   "source": [
    "df_grt_upperfense=df2.where(df2[\"FundingMillion\"] > 22.2569625).dropna()"
   ]
  },
  {
   "cell_type": "code",
   "execution_count": 521,
   "id": "119c21e9",
   "metadata": {},
   "outputs": [
    {
     "name": "stdout",
     "output_type": "stream",
     "text": [
      "Number of outliers Greater than upper fense  Startup           60\n",
      "Product           60\n",
      "Event             60\n",
      "Result            60\n",
      "OperatingState    60\n",
      "FundingMillion    60\n",
      "dtype: int64\n"
     ]
    }
   ],
   "source": [
    "print(\"Number of outliers Greater than upper fense \",df_grt_upperfense.count())"
   ]
  },
  {
   "cell_type": "markdown",
   "id": "93eace23",
   "metadata": {},
   "source": [
    "# 3.6 Drop the values that are greater than upper fence"
   ]
  },
  {
   "cell_type": "code",
   "execution_count": 522,
   "id": "1814457f",
   "metadata": {},
   "outputs": [],
   "source": [
    "df_drop_upp=df2.where(df2[\"FundingMillion\"] <= 22.2569625).dropna()"
   ]
  },
  {
   "cell_type": "code",
   "execution_count": 525,
   "id": "b29a07f5",
   "metadata": {},
   "outputs": [
    {
     "data": {
      "text/html": [
       "<div>\n",
       "<style scoped>\n",
       "    .dataframe tbody tr th:only-of-type {\n",
       "        vertical-align: middle;\n",
       "    }\n",
       "\n",
       "    .dataframe tbody tr th {\n",
       "        vertical-align: top;\n",
       "    }\n",
       "\n",
       "    .dataframe thead th {\n",
       "        text-align: right;\n",
       "    }\n",
       "</style>\n",
       "<table border=\"1\" class=\"dataframe\">\n",
       "  <thead>\n",
       "    <tr style=\"text-align: right;\">\n",
       "      <th></th>\n",
       "      <th>FundingMillion</th>\n",
       "    </tr>\n",
       "  </thead>\n",
       "  <tbody>\n",
       "    <tr>\n",
       "      <th>count</th>\n",
       "      <td>386.00000</td>\n",
       "    </tr>\n",
       "    <tr>\n",
       "      <th>mean</th>\n",
       "      <td>3.72514</td>\n",
       "    </tr>\n",
       "    <tr>\n",
       "      <th>std</th>\n",
       "      <td>4.73236</td>\n",
       "    </tr>\n",
       "    <tr>\n",
       "      <th>min</th>\n",
       "      <td>0.00500</td>\n",
       "    </tr>\n",
       "    <tr>\n",
       "      <th>25%</th>\n",
       "      <td>0.60000</td>\n",
       "    </tr>\n",
       "    <tr>\n",
       "      <th>50%</th>\n",
       "      <td>1.70000</td>\n",
       "    </tr>\n",
       "    <tr>\n",
       "      <th>75%</th>\n",
       "      <td>5.00000</td>\n",
       "    </tr>\n",
       "    <tr>\n",
       "      <th>max</th>\n",
       "      <td>22.00000</td>\n",
       "    </tr>\n",
       "  </tbody>\n",
       "</table>\n",
       "</div>"
      ],
      "text/plain": [
       "       FundingMillion\n",
       "count       386.00000\n",
       "mean          3.72514\n",
       "std           4.73236\n",
       "min           0.00500\n",
       "25%           0.60000\n",
       "50%           1.70000\n",
       "75%           5.00000\n",
       "max          22.00000"
      ]
     },
     "execution_count": 525,
     "metadata": {},
     "output_type": "execute_result"
    }
   ],
   "source": [
    "df_drop_upp.describe()"
   ]
  },
  {
   "cell_type": "markdown",
   "id": "eb3163cf",
   "metadata": {},
   "source": [
    "# 3.7 Plot the box plot after dropping the values."
   ]
  },
  {
   "cell_type": "code",
   "execution_count": 524,
   "id": "b40c6492",
   "metadata": {},
   "outputs": [
    {
     "data": {
      "image/png": "[encoded data removed]",
      "text/plain": [
       "<Figure size 432x288 with 1 Axes>"
      ]
     },
     "metadata": {
      "needs_background": "light"
     },
     "output_type": "display_data"
    }
   ],
   "source": [
    "fund=df_drop_upp['FundingMillion']\n",
    "sns.boxplot(x=fund)\n",
    "plt.show()"
   ]
  },
  {
   "cell_type": "markdown",
   "id": "b7f241c3",
   "metadata": {},
   "source": [
    "# 3. 8 Check frequency of the OperatingState features classes"
   ]
  },
  {
   "cell_type": "code",
   "execution_count": 526,
   "id": "72f1646b",
   "metadata": {},
   "outputs": [
    {
     "data": {
      "text/plain": [
       "{'Operating': 465, 'Closed': 106, 'Acquired': 86, 'Ipo': 5}"
      ]
     },
     "execution_count": 526,
     "metadata": {},
     "output_type": "execute_result"
    }
   ],
   "source": [
    "df['OperatingState'].value_counts().to_dict()"
   ]
  },
  {
   "cell_type": "code",
   "execution_count": 527,
   "id": "9dcf2bef",
   "metadata": {},
   "outputs": [
    {
     "data": {
      "text/plain": [
       "<AxesSubplot:>"
      ]
     },
     "execution_count": 527,
     "metadata": {},
     "output_type": "execute_result"
    },
    {
     "data": {
      "image/png": "[encoded data removed]",
      "text/plain": [
       "<Figure size 432x288 with 1 Axes>"
      ]
     },
     "metadata": {
      "needs_background": "light"
     },
     "output_type": "display_data"
    }
   ],
   "source": [
    "df['OperatingState'].value_counts().plot(kind='bar')\n"
   ]
  },
  {
   "cell_type": "markdown",
   "id": "914853b8",
   "metadata": {},
   "source": [
    "# 3.9 Plot a distribution plot for Funds in million."
   ]
  },
  {
   "cell_type": "code",
   "execution_count": 528,
   "id": "f170ad3a",
   "metadata": {},
   "outputs": [
    {
     "name": "stderr",
     "output_type": "stream",
     "text": [
      "/opt/anaconda3/lib/python3.9/site-packages/seaborn/distributions.py:2619: FutureWarning: `distplot` is a deprecated function and will be removed in a future version. Please adapt your code to use either `displot` (a figure-level function with similar flexibility) or `histplot` (an axes-level function for histograms).\n",
      "  warnings.warn(msg, FutureWarning)\n"
     ]
    },
    {
     "data": {
      "text/plain": [
       "<AxesSubplot:xlabel='FundingMillion', ylabel='Density'>"
      ]
     },
     "execution_count": 528,
     "metadata": {},
     "output_type": "execute_result"
    },
    {
     "data": {
      "image/png": "[encoded data removed]",
      "text/plain": [
       "<Figure size 432x288 with 1 Axes>"
      ]
     },
     "metadata": {
      "needs_background": "light"
     },
     "output_type": "display_data"
    }
   ],
   "source": [
    "sns.distplot(df2.FundingMillion)"
   ]
  },
  {
   "cell_type": "markdown",
   "id": "57b21b6f",
   "metadata": {},
   "source": [
    "# 3.9 Plot distribution plots for companies still operating "
   ]
  },
  {
   "cell_type": "code",
   "execution_count": 529,
   "id": "1f282e2d",
   "metadata": {},
   "outputs": [
    {
     "name": "stderr",
     "output_type": "stream",
     "text": [
      "/opt/anaconda3/lib/python3.9/site-packages/seaborn/distributions.py:2619: FutureWarning: `distplot` is a deprecated function and will be removed in a future version. Please adapt your code to use either `displot` (a figure-level function with similar flexibility) or `histplot` (an axes-level function for histograms).\n",
      "  warnings.warn(msg, FutureWarning)\n"
     ]
    },
    {
     "data": {
      "text/plain": [
       "<AxesSubplot:xlabel='FundingMillion', ylabel='Density'>"
      ]
     },
     "execution_count": 529,
     "metadata": {},
     "output_type": "execute_result"
    },
    {
     "data": {
      "image/png": "[encoded data removed]",
      "text/plain": [
       "<Figure size 432x288 with 1 Axes>"
      ]
     },
     "metadata": {
      "needs_background": "light"
     },
     "output_type": "display_data"
    }
   ],
   "source": [
    "df_op=df2.where(df2[\"OperatingState\"] =='Operating')\n",
    "sns.distplot(df_op.FundingMillion)"
   ]
  },
  {
   "cell_type": "markdown",
   "id": "330dab56",
   "metadata": {},
   "source": [
    "# 3.10 Plot distribution plots for companies still closed."
   ]
  },
  {
   "cell_type": "code",
   "execution_count": 530,
   "id": "6ad37e70",
   "metadata": {},
   "outputs": [
    {
     "name": "stderr",
     "output_type": "stream",
     "text": [
      "/opt/anaconda3/lib/python3.9/site-packages/seaborn/distributions.py:2619: FutureWarning: `distplot` is a deprecated function and will be removed in a future version. Please adapt your code to use either `displot` (a figure-level function with similar flexibility) or `histplot` (an axes-level function for histograms).\n",
      "  warnings.warn(msg, FutureWarning)\n"
     ]
    },
    {
     "data": {
      "text/plain": [
       "<AxesSubplot:xlabel='FundingMillion', ylabel='Density'>"
      ]
     },
     "execution_count": 530,
     "metadata": {},
     "output_type": "execute_result"
    },
    {
     "data": {
      "image/png": "[encoded data removed]",
      "text/plain": [
       "<Figure size 432x288 with 1 Axes>"
      ]
     },
     "metadata": {
      "needs_background": "light"
     },
     "output_type": "display_data"
    }
   ],
   "source": [
    "df_closed=df2.where(df2[\"OperatingState\"] =='Closed')\n",
    "sns.distplot(df_closed.FundingMillion)"
   ]
  },
  {
   "cell_type": "markdown",
   "id": "d66be239",
   "metadata": {},
   "source": [
    "# 4 Statistical analysis"
   ]
  },
  {
   "cell_type": "markdown",
   "id": "0614aed2",
   "metadata": {},
   "source": [
    "# 4.1 Is there any significant difference between Funds raised by companies that are still operating vs companies that closed down?"
   ]
  },
  {
   "cell_type": "code",
   "execution_count": null,
   "id": "4ba03b82",
   "metadata": {},
   "outputs": [],
   "source": [
    "Mean values which needs to compared : Funds ( Our Data has in Million Conversion )\n",
    "Groups : Closed Company , Operating Company "
   ]
  },
  {
   "cell_type": "markdown",
   "id": "381a9d79",
   "metadata": {},
   "source": [
    "Null Hypothesis :The two groups(Closed,Operating) have the same mean\n",
    "Null Hypothesis will be there is no significat difference Funds raised between Companies Operating and closed\n",
    "Alternatie Hypothesis\n",
    "   There is significat difference Funds raised between Companies Operating and closed\n",
    "   "
   ]
  },
  {
   "cell_type": "code",
   "execution_count": 531,
   "id": "db9c820e",
   "metadata": {},
   "outputs": [],
   "source": [
    "import numpy as np\n",
    "from scipy.stats import ttest_1samp, ttest_ind, mannwhitneyu, levene, shapiro\n",
    "from statsmodels.stats.power import ttest_power"
   ]
  },
  {
   "cell_type": "code",
   "execution_count": 533,
   "id": "c9bd789c",
   "metadata": {},
   "outputs": [
    {
     "name": "stdout",
     "output_type": "stream",
     "text": [
      "Operating Count 319\n",
      "Closed Count 57\n"
     ]
    }
   ],
   "source": [
    "df_Operating=df1.where(df1[\"OperatingState\"] =='Operating')[\"FundingMillion\"].dropna()\n",
    "df_closed=df1.where(df1[\"OperatingState\"] =='Closed')[\"FundingMillion\"].dropna()\n",
    "print(\"Operating Count\",df_Operating.count())\n",
    "print(\"Closed Count\",df_closed.count())"
   ]
  },
  {
   "cell_type": "code",
   "execution_count": 460,
   "id": "8b38a3fb",
   "metadata": {},
   "outputs": [
    {
     "name": "stdout",
     "output_type": "stream",
     "text": [
      "Operating Company Variance 10957.324767466052\n",
      "Closed  Company Variance 35.08541145277927\n",
      "Variance ratio of Groups  312.3042972493935\n"
     ]
    }
   ],
   "source": [
    "print(\"Operating Company Variance\",df_Operating.var())\n",
    "print(\"Closed  Company Variance\",df_closed.var())\n",
    "print(\"Variance ratio of Groups \",df_Operating.var()/df_closed.var())"
   ]
  },
  {
   "cell_type": "code",
   "execution_count": 534,
   "id": "dcc7b074",
   "metadata": {},
   "outputs": [
    {
     "name": "stdout",
     "output_type": "stream",
     "text": [
      "1.1382924521671383 0.2557270186090243\n"
     ]
    }
   ],
   "source": [
    "## two-sample t-test\n",
    "# null hypothesis: the two groups have the same mean\n",
    "# this test assumes the two groups have the same variance...\n",
    "# (can be checked with tests for equal variance - Levene)\n",
    "t_statistic, p_value = ttest_ind(df_Operating, df_closed)\n",
    "print(t_statistic, p_value)"
   ]
  },
  {
   "cell_type": "code",
   "execution_count": null,
   "id": "270207bd",
   "metadata": {},
   "outputs": [],
   "source": [
    "As P value is greater than 0.25 So we Alternative Hypothesis . \n",
    "Observation : Theres is significat difference are there "
   ]
  },
  {
   "cell_type": "code",
   "execution_count": 536,
   "id": "6a26bbfb",
   "metadata": {},
   "outputs": [
    {
     "name": "stdout",
     "output_type": "stream",
     "text": [
      "Operating Company Variance 10957.324767466052\n",
      "Closed  Company Variance 35.08541145277927\n",
      "Variance ratio of Groups  312.3042972493935\n"
     ]
    }
   ],
   "source": [
    "print(\"Operating Company Variance\",df_Operating.var())\n",
    "print(\"Closed  Company Variance\",df_closed.var())\n",
    "print(\"Variance ratio of Groups \",df_Operating.var()/df_closed.var())"
   ]
  },
  {
   "cell_type": "code",
   "execution_count": 535,
   "id": "e9326f2c",
   "metadata": {},
   "outputs": [
    {
     "name": "stdout",
     "output_type": "stream",
     "text": [
      "2.672721434336835 0.007898898690192623\n"
     ]
    }
   ],
   "source": [
    "## two-sample t-test\n",
    "# null hypothesis: the two groups have the same mean\n",
    "# this test assumes the two groups have the different variance...\n",
    "# (can be checked with tests for equal variance - Levene)\n",
    "t_statistic, p_value = ttest_ind(df_Operating, df_closed,equal_var=False)\n",
    "print(t_statistic, p_value)"
   ]
  },
  {
   "cell_type": "code",
   "execution_count": null,
   "id": "681689c6",
   "metadata": {},
   "outputs": [],
   "source": [
    "Observation & Conclustion of T Test \n",
    "\n",
    "P Value (0.0078) which is less than alpha (.05) We don't have enough evidene so rejecting Null Hypotheis . \n",
    "There is significant difference between Funds raised by companies that are still operating vs companies that closed down\n"
   ]
  },
  {
   "cell_type": "markdown",
   "id": "aaabfde9",
   "metadata": {},
   "source": [
    "# 4.2 Make a copy of the original data frame"
   ]
  },
  {
   "cell_type": "code",
   "execution_count": 453,
   "id": "c94c82d6",
   "metadata": {},
   "outputs": [],
   "source": [
    "df_stats=df2\n",
    "#Data cleansed Data frame used"
   ]
  },
  {
   "cell_type": "markdown",
   "id": "b9b7ff4b",
   "metadata": {},
   "source": [
    "# 4.3 Check frequency distribution of Result variable."
   ]
  },
  {
   "cell_type": "code",
   "execution_count": 537,
   "id": "8afd24cf",
   "metadata": {},
   "outputs": [
    {
     "data": {
      "text/plain": [
       "{'Contestant': 312,\n",
       " 'Finalist': 65,\n",
       " 'Audience choice': 25,\n",
       " 'Winner': 25,\n",
       " 'Runner up': 19}"
      ]
     },
     "execution_count": 537,
     "metadata": {},
     "output_type": "execute_result"
    }
   ],
   "source": [
    "df_stats['Result'].value_counts().to_dict()"
   ]
  },
  {
   "cell_type": "code",
   "execution_count": 538,
   "id": "d07cbff6",
   "metadata": {},
   "outputs": [
    {
     "data": {
      "text/plain": [
       "<AxesSubplot:>"
      ]
     },
     "execution_count": 538,
     "metadata": {},
     "output_type": "execute_result"
    },
    {
     "data": {
      "image/png": "[encoded data removed]",
      "text/plain": [
       "<Figure size 432x288 with 1 Axes>"
      ]
     },
     "metadata": {
      "needs_background": "light"
     },
     "output_type": "display_data"
    }
   ],
   "source": [
    "df_stats['Result'].value_counts().plot(kind='bar')"
   ]
  },
  {
   "cell_type": "markdown",
   "id": "eaccd35d",
   "metadata": {},
   "source": [
    "# 4.4  Calculate percentage of winners that are still operating and percentage of contestants that are still operating"
   ]
  },
  {
   "cell_type": "code",
   "execution_count": 539,
   "id": "27b623a1",
   "metadata": {},
   "outputs": [
    {
     "data": {
      "text/plain": [
       "Startup           319\n",
       "Product           319\n",
       "Funding           319\n",
       "Event             319\n",
       "Result            319\n",
       "OperatingState    319\n",
       "Funding1          319\n",
       "FundingMillion    319\n",
       "dtype: int64"
      ]
     },
     "execution_count": 539,
     "metadata": {},
     "output_type": "execute_result"
    }
   ],
   "source": [
    "df_operating=df1.where(df1[\"OperatingState\"] =='Operating').dropna()\n",
    "df_operating.head()\n",
    "df_operating.count()"
   ]
  },
  {
   "cell_type": "code",
   "execution_count": 540,
   "id": "6b42c018",
   "metadata": {},
   "outputs": [
    {
     "data": {
      "text/plain": [
       "{'Contestant': 214,\n",
       " 'Finalist': 46,\n",
       " 'Audience choice': 23,\n",
       " 'Winner': 18,\n",
       " 'Runner up': 18}"
      ]
     },
     "execution_count": 540,
     "metadata": {},
     "output_type": "execute_result"
    }
   ],
   "source": [
    "df_operating['Result'].value_counts().to_dict()"
   ]
  },
  {
   "cell_type": "code",
   "execution_count": 541,
   "id": "2facb637",
   "metadata": {},
   "outputs": [
    {
     "name": "stdout",
     "output_type": "stream",
     "text": [
      "percentage of winners that are still operating 5.69620253164557 %\n",
      "percentage of contestants that are still operating 67.72151898734177 %\n"
     ]
    }
   ],
   "source": [
    "print(\"percentage of winners that are still operating\",(18/316)*100,'%')\n",
    "print(\"percentage of contestants that are still operating\",(214/316)*100,'%')"
   ]
  },
  {
   "cell_type": "code",
   "execution_count": 469,
   "id": "8bd9c257",
   "metadata": {},
   "outputs": [
    {
     "data": {
      "text/html": [
       "<div>\n",
       "<style scoped>\n",
       "    .dataframe tbody tr th:only-of-type {\n",
       "        vertical-align: middle;\n",
       "    }\n",
       "\n",
       "    .dataframe tbody tr th {\n",
       "        vertical-align: top;\n",
       "    }\n",
       "\n",
       "    .dataframe thead th {\n",
       "        text-align: right;\n",
       "    }\n",
       "</style>\n",
       "<table border=\"1\" class=\"dataframe\">\n",
       "  <thead>\n",
       "    <tr style=\"text-align: right;\">\n",
       "      <th></th>\n",
       "      <th>Startup</th>\n",
       "      <th>Product</th>\n",
       "      <th>Funding</th>\n",
       "      <th>Event</th>\n",
       "      <th>Result</th>\n",
       "      <th>OperatingState</th>\n",
       "      <th>Funding1</th>\n",
       "      <th>FundingMillion</th>\n",
       "    </tr>\n",
       "  </thead>\n",
       "  <tbody>\n",
       "    <tr>\n",
       "      <th>3</th>\n",
       "      <td>3Dprintler</td>\n",
       "      <td>3dprintler.com</td>\n",
       "      <td>$1M</td>\n",
       "      <td>Disrupt NY 2016</td>\n",
       "      <td>Audience choice</td>\n",
       "      <td>Operating</td>\n",
       "      <td>1000000.0</td>\n",
       "      <td>1.0000</td>\n",
       "    </tr>\n",
       "    <tr>\n",
       "      <th>6</th>\n",
       "      <td>8 Securities</td>\n",
       "      <td>8securities.com</td>\n",
       "      <td>$29M</td>\n",
       "      <td>Disrupt Beijing 2011</td>\n",
       "      <td>Finalist</td>\n",
       "      <td>Operating</td>\n",
       "      <td>29000000.0</td>\n",
       "      <td>29.0000</td>\n",
       "    </tr>\n",
       "    <tr>\n",
       "      <th>10</th>\n",
       "      <td>AdhereTech</td>\n",
       "      <td>adheretech.com</td>\n",
       "      <td>$1.8M</td>\n",
       "      <td>Hardware Battlefield 2014</td>\n",
       "      <td>Contestant</td>\n",
       "      <td>Operating</td>\n",
       "      <td>1800000.0</td>\n",
       "      <td>1.8000</td>\n",
       "    </tr>\n",
       "    <tr>\n",
       "      <th>13</th>\n",
       "      <td>Agrilyst</td>\n",
       "      <td>agrilyst.com</td>\n",
       "      <td>$1M</td>\n",
       "      <td>Disrupt SF 2015</td>\n",
       "      <td>Winner</td>\n",
       "      <td>Operating</td>\n",
       "      <td>1000000.0</td>\n",
       "      <td>1.0000</td>\n",
       "    </tr>\n",
       "    <tr>\n",
       "      <th>14</th>\n",
       "      <td>Aiden</td>\n",
       "      <td>aiden.ai</td>\n",
       "      <td>$750K</td>\n",
       "      <td>Disrupt London 2016</td>\n",
       "      <td>Contestant</td>\n",
       "      <td>Operating</td>\n",
       "      <td>750000.0</td>\n",
       "      <td>0.7500</td>\n",
       "    </tr>\n",
       "    <tr>\n",
       "      <th>15</th>\n",
       "      <td>AirBoxLab</td>\n",
       "      <td>foobot.io</td>\n",
       "      <td>$17.9K</td>\n",
       "      <td>Hardware Battlefield 2014</td>\n",
       "      <td>Contestant</td>\n",
       "      <td>Operating</td>\n",
       "      <td>17900.0</td>\n",
       "      <td>0.0179</td>\n",
       "    </tr>\n",
       "    <tr>\n",
       "      <th>16</th>\n",
       "      <td>Aircall</td>\n",
       "      <td>aircall.io</td>\n",
       "      <td>$11.6M</td>\n",
       "      <td>Disrupt SF 2015</td>\n",
       "      <td>Contestant</td>\n",
       "      <td>Operating</td>\n",
       "      <td>11600000.0</td>\n",
       "      <td>11.6000</td>\n",
       "    </tr>\n",
       "    <tr>\n",
       "      <th>18</th>\n",
       "      <td>AirHelp</td>\n",
       "      <td>airhelp.com</td>\n",
       "      <td>$12.2M</td>\n",
       "      <td>Disrupt NYC 2014</td>\n",
       "      <td>Contestant</td>\n",
       "      <td>Operating</td>\n",
       "      <td>12200000.0</td>\n",
       "      <td>12.2000</td>\n",
       "    </tr>\n",
       "    <tr>\n",
       "      <th>22</th>\n",
       "      <td>Alicanto</td>\n",
       "      <td>alicanto.com</td>\n",
       "      <td>$4M</td>\n",
       "      <td>Disrupt SF 2012</td>\n",
       "      <td>Contestant</td>\n",
       "      <td>Operating</td>\n",
       "      <td>4000000.0</td>\n",
       "      <td>4.0000</td>\n",
       "    </tr>\n",
       "    <tr>\n",
       "      <th>31</th>\n",
       "      <td>Anyclip</td>\n",
       "      <td>anyclip.com</td>\n",
       "      <td>$24M</td>\n",
       "      <td>TC50 2009</td>\n",
       "      <td>Finalist</td>\n",
       "      <td>Operating</td>\n",
       "      <td>24000000.0</td>\n",
       "      <td>24.0000</td>\n",
       "    </tr>\n",
       "  </tbody>\n",
       "</table>\n",
       "</div>"
      ],
      "text/plain": [
       "         Startup          Product Funding                      Event  \\\n",
       "3     3Dprintler   3dprintler.com     $1M            Disrupt NY 2016   \n",
       "6   8 Securities  8securities.com    $29M       Disrupt Beijing 2011   \n",
       "10    AdhereTech   adheretech.com   $1.8M  Hardware Battlefield 2014   \n",
       "13      Agrilyst     agrilyst.com     $1M            Disrupt SF 2015   \n",
       "14         Aiden         aiden.ai   $750K        Disrupt London 2016   \n",
       "15     AirBoxLab        foobot.io  $17.9K  Hardware Battlefield 2014   \n",
       "16       Aircall       aircall.io  $11.6M            Disrupt SF 2015   \n",
       "18       AirHelp      airhelp.com  $12.2M           Disrupt NYC 2014   \n",
       "22      Alicanto     alicanto.com     $4M            Disrupt SF 2012   \n",
       "31       Anyclip      anyclip.com    $24M                  TC50 2009   \n",
       "\n",
       "             Result OperatingState    Funding1  FundingMillion  \n",
       "3   Audience choice      Operating   1000000.0          1.0000  \n",
       "6          Finalist      Operating  29000000.0         29.0000  \n",
       "10       Contestant      Operating   1800000.0          1.8000  \n",
       "13           Winner      Operating   1000000.0          1.0000  \n",
       "14       Contestant      Operating    750000.0          0.7500  \n",
       "15       Contestant      Operating     17900.0          0.0179  \n",
       "16       Contestant      Operating  11600000.0         11.6000  \n",
       "18       Contestant      Operating  12200000.0         12.2000  \n",
       "22       Contestant      Operating   4000000.0          4.0000  \n",
       "31         Finalist      Operating  24000000.0         24.0000  "
      ]
     },
     "execution_count": 469,
     "metadata": {},
     "output_type": "execute_result"
    }
   ],
   "source": [
    "df_operating.head(10)"
   ]
  },
  {
   "cell_type": "markdown",
   "id": "7730b308",
   "metadata": {},
   "source": [
    "# 4.5 Write your hypothesis comparing the proportion of companies that are operating between winners and contestants:\n"
   ]
  },
  {
   "cell_type": "code",
   "execution_count": 544,
   "id": "3054dc0b",
   "metadata": {},
   "outputs": [
    {
     "name": "stdout",
     "output_type": "stream",
     "text": [
      "P Value 1.5467413703711346e-58\n",
      "With a p-value of 0.0 the difference is significant. aka |We reject the null|\n"
     ]
    }
   ],
   "source": [
    "from statsmodels.stats.proportion import proportions_ztest\n",
    "\n",
    "stat, pval = proportions_ztest([18, 214] , [319, 319])\n",
    "print(\"P Value\",pval)\n",
    "\n",
    "if pval < 0.05:\n",
    "    print(f'With a p-value of {round(pval,4)} the difference is significant. aka |We reject the null|')\n",
    "else:\n",
    "    print(f'With a p-value of {round(pval,4)} the difference is not significant. aka |We fail to reject the null|')"
   ]
  },
  {
   "cell_type": "markdown",
   "id": "24643a3e",
   "metadata": {},
   "source": [
    "# 4.6 Check distribution of the Event variable."
   ]
  },
  {
   "cell_type": "code",
   "execution_count": 545,
   "id": "070a2fee",
   "metadata": {},
   "outputs": [
    {
     "data": {
      "text/plain": [
       "<AxesSubplot:>"
      ]
     },
     "execution_count": 545,
     "metadata": {},
     "output_type": "execute_result"
    },
    {
     "data": {
      "image/png": "[encoded data removed]",
      "text/plain": [
       "<Figure size 432x288 with 1 Axes>"
      ]
     },
     "metadata": {
      "needs_background": "light"
     },
     "output_type": "display_data"
    }
   ],
   "source": [
    "\n",
    "df1['Event'].value_counts().plot(kind='bar')\n"
   ]
  },
  {
   "cell_type": "markdown",
   "id": "2e89b1ab",
   "metadata": {},
   "source": [
    "# 4.7 Select only the Event that has disrupt keyword from 2013 onwards."
   ]
  },
  {
   "cell_type": "code",
   "execution_count": 546,
   "id": "67bfa09d",
   "metadata": {},
   "outputs": [],
   "source": [
    "df6=df1.where(df1[\"Event\"].str.contains('Disrupt')).dropna()\n",
    "df6['Event2013'] = df1['Event'].str[-4:]\n",
    "df6['Event2013'] =pd.to_numeric(df6['Event2013'], errors='coerce')\n",
    "df7 =df6.where(df6['Event2013'] >= 2013).dropna()\n"
   ]
  },
  {
   "cell_type": "code",
   "execution_count": 547,
   "id": "4bb7c2b2",
   "metadata": {},
   "outputs": [
    {
     "data": {
      "text/plain": [
       "<AxesSubplot:>"
      ]
     },
     "execution_count": 547,
     "metadata": {},
     "output_type": "execute_result"
    },
    {
     "data": {
      "image/png": "[encoded data removed]",
      "text/plain": [
       "<Figure size 432x288 with 1 Axes>"
      ]
     },
     "metadata": {
      "needs_background": "light"
     },
     "output_type": "display_data"
    }
   ],
   "source": [
    "df7['Event'].value_counts().plot(kind='bar')"
   ]
  },
  {
   "cell_type": "markdown",
   "id": "c8f9b230",
   "metadata": {},
   "source": [
    "# 4.8 Write and perform your hypothesis along with significance test comparing the funds raised by companies across NY, SF and EU events from 2013 Onwards"
   ]
  },
  {
   "cell_type": "code",
   "execution_count": 548,
   "id": "37b1ade5",
   "metadata": {},
   "outputs": [
    {
     "name": "stderr",
     "output_type": "stream",
     "text": [
      "/var/folders/7p/5k1s0qxj2mn1kmk2d_npxq8r0000gn/T/ipykernel_6406/2005311695.py:2: SettingWithCopyWarning: \n",
      "A value is trying to be set on a copy of a slice from a DataFrame.\n",
      "Try using .loc[row_indexer,col_indexer] = value instead\n",
      "\n",
      "See the caveats in the documentation: https://pandas.pydata.org/pandas-docs/stable/user_guide/indexing.html#returning-a-view-versus-a-copy\n",
      "  df8['city'] = df1['Event'].str.slice(-7,-5)\n"
     ]
    }
   ],
   "source": [
    "df8=df1\n",
    "df8['city'] = df1['Event'].str.slice(-7,-5)\n"
   ]
  },
  {
   "cell_type": "code",
   "execution_count": 549,
   "id": "f44b0a8b",
   "metadata": {},
   "outputs": [
    {
     "data": {
      "text/plain": [
       "SF    140\n",
       "NY     37\n",
       "EU     19\n",
       "Name: city, dtype: int64"
      ]
     },
     "execution_count": 549,
     "metadata": {},
     "output_type": "execute_result"
    }
   ],
   "source": [
    "df9=df8.where(df8.city.isin(['NY','SF','EU'])).dropna()\n",
    "df9['city'].value_counts()"
   ]
  },
  {
   "cell_type": "code",
   "execution_count": 550,
   "id": "01af489e",
   "metadata": {},
   "outputs": [
    {
     "data": {
      "text/html": [
       "<div>\n",
       "<style scoped>\n",
       "    .dataframe tbody tr th:only-of-type {\n",
       "        vertical-align: middle;\n",
       "    }\n",
       "\n",
       "    .dataframe tbody tr th {\n",
       "        vertical-align: top;\n",
       "    }\n",
       "\n",
       "    .dataframe thead th {\n",
       "        text-align: right;\n",
       "    }\n",
       "</style>\n",
       "<table border=\"1\" class=\"dataframe\">\n",
       "  <thead>\n",
       "    <tr style=\"text-align: right;\">\n",
       "      <th></th>\n",
       "      <th>city</th>\n",
       "      <th>FundingMillion</th>\n",
       "    </tr>\n",
       "  </thead>\n",
       "  <tbody>\n",
       "    <tr>\n",
       "      <th>3</th>\n",
       "      <td>NY</td>\n",
       "      <td>1.0000</td>\n",
       "    </tr>\n",
       "    <tr>\n",
       "      <th>13</th>\n",
       "      <td>SF</td>\n",
       "      <td>1.0000</td>\n",
       "    </tr>\n",
       "    <tr>\n",
       "      <th>16</th>\n",
       "      <td>SF</td>\n",
       "      <td>11.6000</td>\n",
       "    </tr>\n",
       "    <tr>\n",
       "      <th>22</th>\n",
       "      <td>SF</td>\n",
       "      <td>4.0000</td>\n",
       "    </tr>\n",
       "    <tr>\n",
       "      <th>27</th>\n",
       "      <td>SF</td>\n",
       "      <td>3.0000</td>\n",
       "    </tr>\n",
       "    <tr>\n",
       "      <th>42</th>\n",
       "      <td>EU</td>\n",
       "      <td>8.3000</td>\n",
       "    </tr>\n",
       "    <tr>\n",
       "      <th>46</th>\n",
       "      <td>SF</td>\n",
       "      <td>12.3000</td>\n",
       "    </tr>\n",
       "    <tr>\n",
       "      <th>49</th>\n",
       "      <td>SF</td>\n",
       "      <td>40.0000</td>\n",
       "    </tr>\n",
       "    <tr>\n",
       "      <th>51</th>\n",
       "      <td>NY</td>\n",
       "      <td>0.5200</td>\n",
       "    </tr>\n",
       "    <tr>\n",
       "      <th>52</th>\n",
       "      <td>SF</td>\n",
       "      <td>2.9000</td>\n",
       "    </tr>\n",
       "    <tr>\n",
       "      <th>53</th>\n",
       "      <td>SF</td>\n",
       "      <td>0.3200</td>\n",
       "    </tr>\n",
       "    <tr>\n",
       "      <th>55</th>\n",
       "      <td>NY</td>\n",
       "      <td>0.0200</td>\n",
       "    </tr>\n",
       "    <tr>\n",
       "      <th>59</th>\n",
       "      <td>NY</td>\n",
       "      <td>2.8000</td>\n",
       "    </tr>\n",
       "    <tr>\n",
       "      <th>60</th>\n",
       "      <td>NY</td>\n",
       "      <td>0.1250</td>\n",
       "    </tr>\n",
       "    <tr>\n",
       "      <th>62</th>\n",
       "      <td>SF</td>\n",
       "      <td>20.8000</td>\n",
       "    </tr>\n",
       "    <tr>\n",
       "      <th>63</th>\n",
       "      <td>SF</td>\n",
       "      <td>0.6750</td>\n",
       "    </tr>\n",
       "    <tr>\n",
       "      <th>64</th>\n",
       "      <td>NY</td>\n",
       "      <td>6.5000</td>\n",
       "    </tr>\n",
       "    <tr>\n",
       "      <th>71</th>\n",
       "      <td>NY</td>\n",
       "      <td>7.2000</td>\n",
       "    </tr>\n",
       "    <tr>\n",
       "      <th>95</th>\n",
       "      <td>NY</td>\n",
       "      <td>2.3000</td>\n",
       "    </tr>\n",
       "    <tr>\n",
       "      <th>122</th>\n",
       "      <td>NY</td>\n",
       "      <td>2.6000</td>\n",
       "    </tr>\n",
       "    <tr>\n",
       "      <th>124</th>\n",
       "      <td>EU</td>\n",
       "      <td>0.4115</td>\n",
       "    </tr>\n",
       "    <tr>\n",
       "      <th>127</th>\n",
       "      <td>EU</td>\n",
       "      <td>8.1000</td>\n",
       "    </tr>\n",
       "    <tr>\n",
       "      <th>143</th>\n",
       "      <td>NY</td>\n",
       "      <td>7.3000</td>\n",
       "    </tr>\n",
       "    <tr>\n",
       "      <th>145</th>\n",
       "      <td>EU</td>\n",
       "      <td>1.3000</td>\n",
       "    </tr>\n",
       "    <tr>\n",
       "      <th>212</th>\n",
       "      <td>EU</td>\n",
       "      <td>0.3346</td>\n",
       "    </tr>\n",
       "    <tr>\n",
       "      <th>245</th>\n",
       "      <td>EU</td>\n",
       "      <td>1.1000</td>\n",
       "    </tr>\n",
       "    <tr>\n",
       "      <th>258</th>\n",
       "      <td>EU</td>\n",
       "      <td>18.2000</td>\n",
       "    </tr>\n",
       "    <tr>\n",
       "      <th>266</th>\n",
       "      <td>EU</td>\n",
       "      <td>0.3550</td>\n",
       "    </tr>\n",
       "    <tr>\n",
       "      <th>290</th>\n",
       "      <td>EU</td>\n",
       "      <td>4.4000</td>\n",
       "    </tr>\n",
       "    <tr>\n",
       "      <th>316</th>\n",
       "      <td>EU</td>\n",
       "      <td>2.0000</td>\n",
       "    </tr>\n",
       "  </tbody>\n",
       "</table>\n",
       "</div>"
      ],
      "text/plain": [
       "    city  FundingMillion\n",
       "3     NY          1.0000\n",
       "13    SF          1.0000\n",
       "16    SF         11.6000\n",
       "22    SF          4.0000\n",
       "27    SF          3.0000\n",
       "42    EU          8.3000\n",
       "46    SF         12.3000\n",
       "49    SF         40.0000\n",
       "51    NY          0.5200\n",
       "52    SF          2.9000\n",
       "53    SF          0.3200\n",
       "55    NY          0.0200\n",
       "59    NY          2.8000\n",
       "60    NY          0.1250\n",
       "62    SF         20.8000\n",
       "63    SF          0.6750\n",
       "64    NY          6.5000\n",
       "71    NY          7.2000\n",
       "95    NY          2.3000\n",
       "122   NY          2.6000\n",
       "124   EU          0.4115\n",
       "127   EU          8.1000\n",
       "143   NY          7.3000\n",
       "145   EU          1.3000\n",
       "212   EU          0.3346\n",
       "245   EU          1.1000\n",
       "258   EU         18.2000\n",
       "266   EU          0.3550\n",
       "290   EU          4.4000\n",
       "316   EU          2.0000"
      ]
     },
     "execution_count": 550,
     "metadata": {},
     "output_type": "execute_result"
    }
   ],
   "source": [
    "# Group Funding  data by City\n",
    "#city_frame = df9({\"city\":city,\"Fuding\":FundingMillion})\n",
    "city_frame = df9[['city','FundingMillion']]\n",
    "groups = city_frame.groupby(\"city\")\n",
    "groups.head(10)"
   ]
  },
  {
   "cell_type": "code",
   "execution_count": 551,
   "id": "821f68b9",
   "metadata": {},
   "outputs": [
    {
     "data": {
      "text/plain": [
       "13     1.0\n",
       "16    11.6\n",
       "22     4.0\n",
       "27     3.0\n",
       "46    12.3\n",
       "Name: FundingMillion, dtype: float64"
      ]
     },
     "execution_count": 551,
     "metadata": {},
     "output_type": "execute_result"
    }
   ],
   "source": [
    "df_EU=city_frame['FundingMillion'].where(city_frame[\"city\"] =='EU').dropna()\n",
    "df_NY=city_frame['FundingMillion'].where(city_frame[\"city\"] =='NY').dropna()\n",
    "df_SF=city_frame['FundingMillion'].where(city_frame[\"city\"] =='SF').dropna()\n",
    "df_SF.head()"
   ]
  },
  {
   "cell_type": "code",
   "execution_count": 552,
   "id": "ab75f121",
   "metadata": {},
   "outputs": [
    {
     "data": {
      "text/plain": [
       "F_onewayResult(statistic=1.9427783729374277, pvalue=0.14609757807086768)"
      ]
     },
     "execution_count": 552,
     "metadata": {},
     "output_type": "execute_result"
    }
   ],
   "source": [
    "# Perform the ANOVA\n",
    "stats.f_oneway(df_EU, df_NY, df_SF)"
   ]
  },
  {
   "cell_type": "markdown",
   "id": "bf7f8779",
   "metadata": {},
   "source": [
    "The test output yields an F-statistic of 1.942 and a p-value of 0.146, indicating that there is no significant difference between the means of each group.\n",
    "\n",
    "Now let's make Funding data where the group means do differ and run a second ANOVA:"
   ]
  },
  {
   "cell_type": "code",
   "execution_count": 553,
   "id": "2fefd650",
   "metadata": {},
   "outputs": [
    {
     "name": "stdout",
     "output_type": "stream",
     "text": [
      "                 sum_sq     df         F    PR(>F)\n",
      "city        2733.554606    2.0  1.942778  0.146098\n",
      "Residual  135778.750249  193.0       NaN       NaN\n"
     ]
    }
   ],
   "source": [
    "# Alternate method\n",
    "model = ols('FundingMillion ~ city',                 # Model formula\n",
    "            data = city_frame).fit()\n",
    "                \n",
    "anova_result = sm.stats.anova_lm(model, typ=2)\n",
    "print (anova_result)"
   ]
  },
  {
   "cell_type": "markdown",
   "id": "5dedbb03",
   "metadata": {},
   "source": [
    "Observation : \n",
    "\n",
    "The test output yields an F-statistic of 1.942778 and a p-value of 0.146098, indicating that there is no significant difference between the means of each group.\n"
   ]
  },
  {
   "cell_type": "markdown",
   "id": "5a5b1ab2",
   "metadata": {},
   "source": [
    "# 4.9 Plot the distribution plot comparing the 3 city events."
   ]
  },
  {
   "cell_type": "code",
   "execution_count": 554,
   "id": "ada00aee",
   "metadata": {},
   "outputs": [
    {
     "data": {
      "text/plain": [
       "<AxesSubplot:>"
      ]
     },
     "execution_count": 554,
     "metadata": {},
     "output_type": "execute_result"
    },
    {
     "data": {
      "image/png": "[encoded data removed]",
      "text/plain": [
       "<Figure size 432x288 with 1 Axes>"
      ]
     },
     "metadata": {
      "needs_background": "light"
     },
     "output_type": "display_data"
    }
   ],
   "source": [
    "df9['city'].value_counts().plot(kind='bar')"
   ]
  },
  {
   "cell_type": "markdown",
   "id": "0703a29b",
   "metadata": {},
   "source": [
    "volume : We have 4 different category data (Operating 319,Acquired 66,Closed 57,Ipo 4) only with small amount. Need to get more data \n",
    "\n",
    "Veracity: Our data set is small , it has out liers and missing information . With these , Eventually it effects the reliability of its results.\n",
    "\n",
    "Funding values differs with very large ,mean, high ,min values has lot of differece. We need large data set to get the proper data\n",
    "\n",
    "Differnent category (Winner,Cons) mean values not differ with these data set "
   ]
  }
 ],
 "metadata": {
  "kernelspec": {
   "display_name": "Python 3 (ipykernel)",
   "language": "python",
   "name": "python3"
  },
  "language_info": {
   "codemirror_mode": {
    "name": "ipython",
    "version": 3
   },
   "file_extension": ".py",
   "mimetype": "text/x-python",
   "name": "python",
   "nbconvert_exporter": "python",
   "pygments_lexer": "ipython3",
   "version": "3.9.7"
  }
 },
 "nbformat": 4,
 "nbformat_minor": 5
}
